{
 "cells": [
  {
   "cell_type": "code",
   "execution_count": 3,
   "metadata": {},
   "outputs": [],
   "source": [
    "import pandas as pd\n",
    "import numpy as np"
   ]
  },
  {
   "cell_type": "code",
   "execution_count": 4,
   "metadata": {},
   "outputs": [],
   "source": [
    "bf = pd.read_csv('bodyfat.csv')"
   ]
  },
  {
   "cell_type": "code",
   "execution_count": 5,
   "metadata": {},
   "outputs": [
    {
     "data": {
      "text/html": [
       "<div>\n",
       "<style scoped>\n",
       "    .dataframe tbody tr th:only-of-type {\n",
       "        vertical-align: middle;\n",
       "    }\n",
       "\n",
       "    .dataframe tbody tr th {\n",
       "        vertical-align: top;\n",
       "    }\n",
       "\n",
       "    .dataframe thead th {\n",
       "        text-align: right;\n",
       "    }\n",
       "</style>\n",
       "<table border=\"1\" class=\"dataframe\">\n",
       "  <thead>\n",
       "    <tr style=\"text-align: right;\">\n",
       "      <th></th>\n",
       "      <th>Bodyfat</th>\n",
       "      <th>Age</th>\n",
       "      <th>Weight</th>\n",
       "      <th>Height</th>\n",
       "      <th>Neck</th>\n",
       "      <th>Chest</th>\n",
       "      <th>Abdomen</th>\n",
       "      <th>Ankle</th>\n",
       "      <th>Biceps</th>\n",
       "      <th>Wrist</th>\n",
       "    </tr>\n",
       "  </thead>\n",
       "  <tbody>\n",
       "    <tr>\n",
       "      <th>0</th>\n",
       "      <td>32.3</td>\n",
       "      <td>41</td>\n",
       "      <td>247.25</td>\n",
       "      <td>73.50</td>\n",
       "      <td>42.1</td>\n",
       "      <td>117.0</td>\n",
       "      <td>115.6</td>\n",
       "      <td>26.3</td>\n",
       "      <td>37.3</td>\n",
       "      <td>19.7</td>\n",
       "    </tr>\n",
       "    <tr>\n",
       "      <th>1</th>\n",
       "      <td>22.5</td>\n",
       "      <td>31</td>\n",
       "      <td>177.25</td>\n",
       "      <td>71.50</td>\n",
       "      <td>36.2</td>\n",
       "      <td>101.1</td>\n",
       "      <td>92.4</td>\n",
       "      <td>24.6</td>\n",
       "      <td>30.1</td>\n",
       "      <td>18.2</td>\n",
       "    </tr>\n",
       "    <tr>\n",
       "      <th>2</th>\n",
       "      <td>22.0</td>\n",
       "      <td>42</td>\n",
       "      <td>156.25</td>\n",
       "      <td>69.00</td>\n",
       "      <td>35.5</td>\n",
       "      <td>97.8</td>\n",
       "      <td>86.0</td>\n",
       "      <td>24.0</td>\n",
       "      <td>31.2</td>\n",
       "      <td>17.4</td>\n",
       "    </tr>\n",
       "    <tr>\n",
       "      <th>3</th>\n",
       "      <td>12.3</td>\n",
       "      <td>23</td>\n",
       "      <td>154.25</td>\n",
       "      <td>67.75</td>\n",
       "      <td>36.2</td>\n",
       "      <td>93.1</td>\n",
       "      <td>85.2</td>\n",
       "      <td>21.9</td>\n",
       "      <td>32.0</td>\n",
       "      <td>17.1</td>\n",
       "    </tr>\n",
       "    <tr>\n",
       "      <th>4</th>\n",
       "      <td>20.5</td>\n",
       "      <td>46</td>\n",
       "      <td>177.00</td>\n",
       "      <td>70.00</td>\n",
       "      <td>37.2</td>\n",
       "      <td>99.7</td>\n",
       "      <td>95.6</td>\n",
       "      <td>22.5</td>\n",
       "      <td>29.1</td>\n",
       "      <td>17.7</td>\n",
       "    </tr>\n",
       "  </tbody>\n",
       "</table>\n",
       "</div>"
      ],
      "text/plain": [
       "   Bodyfat  Age  Weight  Height  Neck  Chest  Abdomen  Ankle  Biceps  Wrist\n",
       "0     32.3   41  247.25   73.50  42.1  117.0    115.6   26.3    37.3   19.7\n",
       "1     22.5   31  177.25   71.50  36.2  101.1     92.4   24.6    30.1   18.2\n",
       "2     22.0   42  156.25   69.00  35.5   97.8     86.0   24.0    31.2   17.4\n",
       "3     12.3   23  154.25   67.75  36.2   93.1     85.2   21.9    32.0   17.1\n",
       "4     20.5   46  177.00   70.00  37.2   99.7     95.6   22.5    29.1   17.7"
      ]
     },
     "execution_count": 5,
     "metadata": {},
     "output_type": "execute_result"
    }
   ],
   "source": [
    "bf.head()"
   ]
  },
  {
   "cell_type": "code",
   "execution_count": 6,
   "metadata": {},
   "outputs": [
    {
     "data": {
      "text/plain": [
       "(100, 10)"
      ]
     },
     "execution_count": 6,
     "metadata": {},
     "output_type": "execute_result"
    }
   ],
   "source": [
    "bf.shape"
   ]
  },
  {
   "cell_type": "code",
   "execution_count": 7,
   "metadata": {},
   "outputs": [],
   "source": [
    "# BodyFat is the target variable."
   ]
  },
  {
   "cell_type": "code",
   "execution_count": 8,
   "metadata": {},
   "outputs": [
    {
     "data": {
      "text/html": [
       "<div>\n",
       "<style scoped>\n",
       "    .dataframe tbody tr th:only-of-type {\n",
       "        vertical-align: middle;\n",
       "    }\n",
       "\n",
       "    .dataframe tbody tr th {\n",
       "        vertical-align: top;\n",
       "    }\n",
       "\n",
       "    .dataframe thead th {\n",
       "        text-align: right;\n",
       "    }\n",
       "</style>\n",
       "<table border=\"1\" class=\"dataframe\">\n",
       "  <thead>\n",
       "    <tr style=\"text-align: right;\">\n",
       "      <th></th>\n",
       "      <th>Bodyfat</th>\n",
       "      <th>Age</th>\n",
       "      <th>Weight</th>\n",
       "      <th>Height</th>\n",
       "      <th>Neck</th>\n",
       "      <th>Chest</th>\n",
       "      <th>Abdomen</th>\n",
       "      <th>Ankle</th>\n",
       "      <th>Biceps</th>\n",
       "      <th>Wrist</th>\n",
       "    </tr>\n",
       "  </thead>\n",
       "  <tbody>\n",
       "    <tr>\n",
       "      <th>Bodyfat</th>\n",
       "      <td>1.000000</td>\n",
       "      <td>0.255798</td>\n",
       "      <td>0.595959</td>\n",
       "      <td>0.032210</td>\n",
       "      <td>0.504443</td>\n",
       "      <td>0.682266</td>\n",
       "      <td>0.811593</td>\n",
       "      <td>0.387911</td>\n",
       "      <td>0.418107</td>\n",
       "      <td>0.373095</td>\n",
       "    </tr>\n",
       "    <tr>\n",
       "      <th>Age</th>\n",
       "      <td>0.255798</td>\n",
       "      <td>1.000000</td>\n",
       "      <td>-0.097905</td>\n",
       "      <td>-0.268673</td>\n",
       "      <td>0.038501</td>\n",
       "      <td>0.072908</td>\n",
       "      <td>0.141339</td>\n",
       "      <td>-0.073522</td>\n",
       "      <td>-0.079398</td>\n",
       "      <td>0.216315</td>\n",
       "    </tr>\n",
       "    <tr>\n",
       "      <th>Weight</th>\n",
       "      <td>0.595959</td>\n",
       "      <td>-0.097905</td>\n",
       "      <td>1.000000</td>\n",
       "      <td>0.568433</td>\n",
       "      <td>0.838977</td>\n",
       "      <td>0.916047</td>\n",
       "      <td>0.888317</td>\n",
       "      <td>0.790388</td>\n",
       "      <td>0.786266</td>\n",
       "      <td>0.755123</td>\n",
       "    </tr>\n",
       "    <tr>\n",
       "      <th>Height</th>\n",
       "      <td>0.032210</td>\n",
       "      <td>-0.268673</td>\n",
       "      <td>0.568433</td>\n",
       "      <td>1.000000</td>\n",
       "      <td>0.370396</td>\n",
       "      <td>0.345312</td>\n",
       "      <td>0.265403</td>\n",
       "      <td>0.454985</td>\n",
       "      <td>0.435460</td>\n",
       "      <td>0.420928</td>\n",
       "    </tr>\n",
       "    <tr>\n",
       "      <th>Neck</th>\n",
       "      <td>0.504443</td>\n",
       "      <td>0.038501</td>\n",
       "      <td>0.838977</td>\n",
       "      <td>0.370396</td>\n",
       "      <td>1.000000</td>\n",
       "      <td>0.789799</td>\n",
       "      <td>0.769086</td>\n",
       "      <td>0.664068</td>\n",
       "      <td>0.701067</td>\n",
       "      <td>0.777259</td>\n",
       "    </tr>\n",
       "    <tr>\n",
       "      <th>Chest</th>\n",
       "      <td>0.682266</td>\n",
       "      <td>0.072908</td>\n",
       "      <td>0.916047</td>\n",
       "      <td>0.345312</td>\n",
       "      <td>0.789799</td>\n",
       "      <td>1.000000</td>\n",
       "      <td>0.922728</td>\n",
       "      <td>0.700092</td>\n",
       "      <td>0.730124</td>\n",
       "      <td>0.695795</td>\n",
       "    </tr>\n",
       "    <tr>\n",
       "      <th>Abdomen</th>\n",
       "      <td>0.811593</td>\n",
       "      <td>0.141339</td>\n",
       "      <td>0.888317</td>\n",
       "      <td>0.265403</td>\n",
       "      <td>0.769086</td>\n",
       "      <td>0.922728</td>\n",
       "      <td>1.000000</td>\n",
       "      <td>0.643211</td>\n",
       "      <td>0.652148</td>\n",
       "      <td>0.672061</td>\n",
       "    </tr>\n",
       "    <tr>\n",
       "      <th>Ankle</th>\n",
       "      <td>0.387911</td>\n",
       "      <td>-0.073522</td>\n",
       "      <td>0.790388</td>\n",
       "      <td>0.454985</td>\n",
       "      <td>0.664068</td>\n",
       "      <td>0.700092</td>\n",
       "      <td>0.643211</td>\n",
       "      <td>1.000000</td>\n",
       "      <td>0.650841</td>\n",
       "      <td>0.688320</td>\n",
       "    </tr>\n",
       "    <tr>\n",
       "      <th>Biceps</th>\n",
       "      <td>0.418107</td>\n",
       "      <td>-0.079398</td>\n",
       "      <td>0.786266</td>\n",
       "      <td>0.435460</td>\n",
       "      <td>0.701067</td>\n",
       "      <td>0.730124</td>\n",
       "      <td>0.652148</td>\n",
       "      <td>0.650841</td>\n",
       "      <td>1.000000</td>\n",
       "      <td>0.630473</td>\n",
       "    </tr>\n",
       "    <tr>\n",
       "      <th>Wrist</th>\n",
       "      <td>0.373095</td>\n",
       "      <td>0.216315</td>\n",
       "      <td>0.755123</td>\n",
       "      <td>0.420928</td>\n",
       "      <td>0.777259</td>\n",
       "      <td>0.695795</td>\n",
       "      <td>0.672061</td>\n",
       "      <td>0.688320</td>\n",
       "      <td>0.630473</td>\n",
       "      <td>1.000000</td>\n",
       "    </tr>\n",
       "  </tbody>\n",
       "</table>\n",
       "</div>"
      ],
      "text/plain": [
       "          Bodyfat       Age    Weight    Height      Neck     Chest   Abdomen  \\\n",
       "Bodyfat  1.000000  0.255798  0.595959  0.032210  0.504443  0.682266  0.811593   \n",
       "Age      0.255798  1.000000 -0.097905 -0.268673  0.038501  0.072908  0.141339   \n",
       "Weight   0.595959 -0.097905  1.000000  0.568433  0.838977  0.916047  0.888317   \n",
       "Height   0.032210 -0.268673  0.568433  1.000000  0.370396  0.345312  0.265403   \n",
       "Neck     0.504443  0.038501  0.838977  0.370396  1.000000  0.789799  0.769086   \n",
       "Chest    0.682266  0.072908  0.916047  0.345312  0.789799  1.000000  0.922728   \n",
       "Abdomen  0.811593  0.141339  0.888317  0.265403  0.769086  0.922728  1.000000   \n",
       "Ankle    0.387911 -0.073522  0.790388  0.454985  0.664068  0.700092  0.643211   \n",
       "Biceps   0.418107 -0.079398  0.786266  0.435460  0.701067  0.730124  0.652148   \n",
       "Wrist    0.373095  0.216315  0.755123  0.420928  0.777259  0.695795  0.672061   \n",
       "\n",
       "            Ankle    Biceps     Wrist  \n",
       "Bodyfat  0.387911  0.418107  0.373095  \n",
       "Age     -0.073522 -0.079398  0.216315  \n",
       "Weight   0.790388  0.786266  0.755123  \n",
       "Height   0.454985  0.435460  0.420928  \n",
       "Neck     0.664068  0.701067  0.777259  \n",
       "Chest    0.700092  0.730124  0.695795  \n",
       "Abdomen  0.643211  0.652148  0.672061  \n",
       "Ankle    1.000000  0.650841  0.688320  \n",
       "Biceps   0.650841  1.000000  0.630473  \n",
       "Wrist    0.688320  0.630473  1.000000  "
      ]
     },
     "execution_count": 8,
     "metadata": {},
     "output_type": "execute_result"
    }
   ],
   "source": [
    "bf.corr()"
   ]
  },
  {
   "cell_type": "code",
   "execution_count": 9,
   "metadata": {},
   "outputs": [
    {
     "data": {
      "text/html": [
       "<div>\n",
       "<style scoped>\n",
       "    .dataframe tbody tr th:only-of-type {\n",
       "        vertical-align: middle;\n",
       "    }\n",
       "\n",
       "    .dataframe tbody tr th {\n",
       "        vertical-align: top;\n",
       "    }\n",
       "\n",
       "    .dataframe thead th {\n",
       "        text-align: right;\n",
       "    }\n",
       "</style>\n",
       "<table border=\"1\" class=\"dataframe\">\n",
       "  <thead>\n",
       "    <tr style=\"text-align: right;\">\n",
       "      <th></th>\n",
       "      <th>Age</th>\n",
       "      <th>Weight</th>\n",
       "      <th>Height</th>\n",
       "      <th>Neck</th>\n",
       "      <th>Chest</th>\n",
       "      <th>Abdomen</th>\n",
       "      <th>Ankle</th>\n",
       "      <th>Biceps</th>\n",
       "      <th>Wrist</th>\n",
       "    </tr>\n",
       "  </thead>\n",
       "  <tbody>\n",
       "    <tr>\n",
       "      <th>Age</th>\n",
       "      <td>1.000000</td>\n",
       "      <td>-0.097905</td>\n",
       "      <td>-0.268673</td>\n",
       "      <td>0.038501</td>\n",
       "      <td>0.072908</td>\n",
       "      <td>0.141339</td>\n",
       "      <td>-0.073522</td>\n",
       "      <td>-0.079398</td>\n",
       "      <td>0.216315</td>\n",
       "    </tr>\n",
       "    <tr>\n",
       "      <th>Weight</th>\n",
       "      <td>-0.097905</td>\n",
       "      <td>1.000000</td>\n",
       "      <td>0.568433</td>\n",
       "      <td>0.838977</td>\n",
       "      <td>0.916047</td>\n",
       "      <td>0.888317</td>\n",
       "      <td>0.790388</td>\n",
       "      <td>0.786266</td>\n",
       "      <td>0.755123</td>\n",
       "    </tr>\n",
       "    <tr>\n",
       "      <th>Height</th>\n",
       "      <td>-0.268673</td>\n",
       "      <td>0.568433</td>\n",
       "      <td>1.000000</td>\n",
       "      <td>0.370396</td>\n",
       "      <td>0.345312</td>\n",
       "      <td>0.265403</td>\n",
       "      <td>0.454985</td>\n",
       "      <td>0.435460</td>\n",
       "      <td>0.420928</td>\n",
       "    </tr>\n",
       "    <tr>\n",
       "      <th>Neck</th>\n",
       "      <td>0.038501</td>\n",
       "      <td>0.838977</td>\n",
       "      <td>0.370396</td>\n",
       "      <td>1.000000</td>\n",
       "      <td>0.789799</td>\n",
       "      <td>0.769086</td>\n",
       "      <td>0.664068</td>\n",
       "      <td>0.701067</td>\n",
       "      <td>0.777259</td>\n",
       "    </tr>\n",
       "    <tr>\n",
       "      <th>Chest</th>\n",
       "      <td>0.072908</td>\n",
       "      <td>0.916047</td>\n",
       "      <td>0.345312</td>\n",
       "      <td>0.789799</td>\n",
       "      <td>1.000000</td>\n",
       "      <td>0.922728</td>\n",
       "      <td>0.700092</td>\n",
       "      <td>0.730124</td>\n",
       "      <td>0.695795</td>\n",
       "    </tr>\n",
       "    <tr>\n",
       "      <th>Abdomen</th>\n",
       "      <td>0.141339</td>\n",
       "      <td>0.888317</td>\n",
       "      <td>0.265403</td>\n",
       "      <td>0.769086</td>\n",
       "      <td>0.922728</td>\n",
       "      <td>1.000000</td>\n",
       "      <td>0.643211</td>\n",
       "      <td>0.652148</td>\n",
       "      <td>0.672061</td>\n",
       "    </tr>\n",
       "    <tr>\n",
       "      <th>Ankle</th>\n",
       "      <td>-0.073522</td>\n",
       "      <td>0.790388</td>\n",
       "      <td>0.454985</td>\n",
       "      <td>0.664068</td>\n",
       "      <td>0.700092</td>\n",
       "      <td>0.643211</td>\n",
       "      <td>1.000000</td>\n",
       "      <td>0.650841</td>\n",
       "      <td>0.688320</td>\n",
       "    </tr>\n",
       "    <tr>\n",
       "      <th>Biceps</th>\n",
       "      <td>-0.079398</td>\n",
       "      <td>0.786266</td>\n",
       "      <td>0.435460</td>\n",
       "      <td>0.701067</td>\n",
       "      <td>0.730124</td>\n",
       "      <td>0.652148</td>\n",
       "      <td>0.650841</td>\n",
       "      <td>1.000000</td>\n",
       "      <td>0.630473</td>\n",
       "    </tr>\n",
       "    <tr>\n",
       "      <th>Wrist</th>\n",
       "      <td>0.216315</td>\n",
       "      <td>0.755123</td>\n",
       "      <td>0.420928</td>\n",
       "      <td>0.777259</td>\n",
       "      <td>0.695795</td>\n",
       "      <td>0.672061</td>\n",
       "      <td>0.688320</td>\n",
       "      <td>0.630473</td>\n",
       "      <td>1.000000</td>\n",
       "    </tr>\n",
       "  </tbody>\n",
       "</table>\n",
       "</div>"
      ],
      "text/plain": [
       "              Age    Weight    Height      Neck     Chest   Abdomen     Ankle  \\\n",
       "Age      1.000000 -0.097905 -0.268673  0.038501  0.072908  0.141339 -0.073522   \n",
       "Weight  -0.097905  1.000000  0.568433  0.838977  0.916047  0.888317  0.790388   \n",
       "Height  -0.268673  0.568433  1.000000  0.370396  0.345312  0.265403  0.454985   \n",
       "Neck     0.038501  0.838977  0.370396  1.000000  0.789799  0.769086  0.664068   \n",
       "Chest    0.072908  0.916047  0.345312  0.789799  1.000000  0.922728  0.700092   \n",
       "Abdomen  0.141339  0.888317  0.265403  0.769086  0.922728  1.000000  0.643211   \n",
       "Ankle   -0.073522  0.790388  0.454985  0.664068  0.700092  0.643211  1.000000   \n",
       "Biceps  -0.079398  0.786266  0.435460  0.701067  0.730124  0.652148  0.650841   \n",
       "Wrist    0.216315  0.755123  0.420928  0.777259  0.695795  0.672061  0.688320   \n",
       "\n",
       "           Biceps     Wrist  \n",
       "Age     -0.079398  0.216315  \n",
       "Weight   0.786266  0.755123  \n",
       "Height   0.435460  0.420928  \n",
       "Neck     0.701067  0.777259  \n",
       "Chest    0.730124  0.695795  \n",
       "Abdomen  0.652148  0.672061  \n",
       "Ankle    0.650841  0.688320  \n",
       "Biceps   1.000000  0.630473  \n",
       "Wrist    0.630473  1.000000  "
      ]
     },
     "execution_count": 9,
     "metadata": {},
     "output_type": "execute_result"
    }
   ],
   "source": [
    "bf.iloc[:,1:11:].corr()"
   ]
  },
  {
   "cell_type": "code",
   "execution_count": 10,
   "metadata": {},
   "outputs": [],
   "source": [
    "# lets compare our Linear Ridge and Lasoo"
   ]
  },
  {
   "cell_type": "code",
   "execution_count": 11,
   "metadata": {},
   "outputs": [],
   "source": [
    "from sklearn.linear_model import LinearRegression\n",
    "from sklearn.linear_model import Ridge\n",
    "from sklearn.linear_model import Lasso"
   ]
  },
  {
   "cell_type": "markdown",
   "metadata": {},
   "source": [
    "## Model Building"
   ]
  },
  {
   "cell_type": "code",
   "execution_count": 12,
   "metadata": {},
   "outputs": [],
   "source": [
    "lin = LinearRegression()\n",
    "ridge = Ridge()\n",
    "lasso = Lasso()"
   ]
  },
  {
   "cell_type": "code",
   "execution_count": 13,
   "metadata": {},
   "outputs": [],
   "source": [
    "bf_x = bf.iloc[:,1:11:]\n",
    "bf_y = bf.iloc[:,0]"
   ]
  },
  {
   "cell_type": "markdown",
   "metadata": {},
   "source": [
    "# Fit"
   ]
  },
  {
   "cell_type": "code",
   "execution_count": 14,
   "metadata": {},
   "outputs": [
    {
     "data": {
      "text/plain": [
       "0.7574718145674211"
      ]
     },
     "execution_count": 14,
     "metadata": {},
     "output_type": "execute_result"
    }
   ],
   "source": [
    "lin.fit(bf_x, bf_y)\n",
    "lin.score(bf_x, bf_y)"
   ]
  },
  {
   "cell_type": "code",
   "execution_count": 15,
   "metadata": {},
   "outputs": [
    {
     "data": {
      "text/plain": [
       "0.757443675387616"
      ]
     },
     "execution_count": 15,
     "metadata": {},
     "output_type": "execute_result"
    }
   ],
   "source": [
    "ridge.fit(bf_x, bf_y)\n",
    "ridge.score(bf_x, bf_y)"
   ]
  },
  {
   "cell_type": "code",
   "execution_count": 16,
   "metadata": {},
   "outputs": [
    {
     "data": {
      "text/plain": [
       "0.7315521962084663"
      ]
     },
     "execution_count": 16,
     "metadata": {},
     "output_type": "execute_result"
    }
   ],
   "source": [
    "lasso.fit(bf_x, bf_y)\n",
    "lasso.score(bf_x, bf_y)"
   ]
  },
  {
   "cell_type": "markdown",
   "metadata": {},
   "source": [
    "# Predict"
   ]
  },
  {
   "cell_type": "code",
   "execution_count": 17,
   "metadata": {},
   "outputs": [],
   "source": [
    "pred_lin = lin.predict(bf_x)\n",
    "pred_ridge = ridge.predict(bf_x)\n",
    "pred_lasso = lasso.predict(bf_x)"
   ]
  },
  {
   "cell_type": "markdown",
   "metadata": {},
   "source": [
    "# Finding coiefficent"
   ]
  },
  {
   "cell_type": "code",
   "execution_count": 18,
   "metadata": {},
   "outputs": [
    {
     "data": {
      "text/plain": [
       "array([ 8.37793344e-02, -8.33221931e-02,  3.59322556e-02,  1.12299488e-03,\n",
       "       -1.38741586e-01,  1.03274094e+00,  2.25942608e-01,  1.48276392e-01,\n",
       "       -2.20339906e+00])"
      ]
     },
     "execution_count": 18,
     "metadata": {},
     "output_type": "execute_result"
    }
   ],
   "source": [
    "lin.coef_"
   ]
  },
  {
   "cell_type": "code",
   "execution_count": 19,
   "metadata": {},
   "outputs": [
    {
     "data": {
      "text/plain": [
       "array([ 0.08163352, -0.08421588,  0.03312492, -0.01323566, -0.13683971,\n",
       "        1.0327911 ,  0.20932576,  0.14674991, -2.12104621])"
      ]
     },
     "execution_count": 19,
     "metadata": {},
     "output_type": "execute_result"
    }
   ],
   "source": [
    "ridge.coef_"
   ]
  },
  {
   "cell_type": "code",
   "execution_count": 20,
   "metadata": {},
   "outputs": [
    {
     "data": {
      "text/plain": [
       "array([ 0.01459462, -0.13525194, -0.        , -0.        , -0.        ,\n",
       "        0.96688777, -0.        ,  0.        , -0.        ])"
      ]
     },
     "execution_count": 20,
     "metadata": {},
     "output_type": "execute_result"
    }
   ],
   "source": [
    "lasso.coef_"
   ]
  },
  {
   "cell_type": "code",
   "execution_count": 21,
   "metadata": {},
   "outputs": [
    {
     "data": {
      "text/html": [
       "<div>\n",
       "<style scoped>\n",
       "    .dataframe tbody tr th:only-of-type {\n",
       "        vertical-align: middle;\n",
       "    }\n",
       "\n",
       "    .dataframe tbody tr th {\n",
       "        vertical-align: top;\n",
       "    }\n",
       "\n",
       "    .dataframe thead th {\n",
       "        text-align: right;\n",
       "    }\n",
       "</style>\n",
       "<table border=\"1\" class=\"dataframe\">\n",
       "  <thead>\n",
       "    <tr style=\"text-align: right;\">\n",
       "      <th></th>\n",
       "      <th>Features</th>\n",
       "      <th>Linear</th>\n",
       "      <th>Ridge</th>\n",
       "      <th>Lasso</th>\n",
       "    </tr>\n",
       "  </thead>\n",
       "  <tbody>\n",
       "    <tr>\n",
       "      <th>0</th>\n",
       "      <td>Age</td>\n",
       "      <td>0.083779</td>\n",
       "      <td>0.081634</td>\n",
       "      <td>0.014595</td>\n",
       "    </tr>\n",
       "    <tr>\n",
       "      <th>1</th>\n",
       "      <td>Weight</td>\n",
       "      <td>-0.083322</td>\n",
       "      <td>-0.084216</td>\n",
       "      <td>-0.135252</td>\n",
       "    </tr>\n",
       "    <tr>\n",
       "      <th>2</th>\n",
       "      <td>Height</td>\n",
       "      <td>0.035932</td>\n",
       "      <td>0.033125</td>\n",
       "      <td>-0.000000</td>\n",
       "    </tr>\n",
       "    <tr>\n",
       "      <th>3</th>\n",
       "      <td>Neck</td>\n",
       "      <td>0.001123</td>\n",
       "      <td>-0.013236</td>\n",
       "      <td>-0.000000</td>\n",
       "    </tr>\n",
       "    <tr>\n",
       "      <th>4</th>\n",
       "      <td>Chest</td>\n",
       "      <td>-0.138742</td>\n",
       "      <td>-0.136840</td>\n",
       "      <td>-0.000000</td>\n",
       "    </tr>\n",
       "    <tr>\n",
       "      <th>5</th>\n",
       "      <td>Abdomen</td>\n",
       "      <td>1.032741</td>\n",
       "      <td>1.032791</td>\n",
       "      <td>0.966888</td>\n",
       "    </tr>\n",
       "    <tr>\n",
       "      <th>6</th>\n",
       "      <td>Ankle</td>\n",
       "      <td>0.225943</td>\n",
       "      <td>0.209326</td>\n",
       "      <td>-0.000000</td>\n",
       "    </tr>\n",
       "    <tr>\n",
       "      <th>7</th>\n",
       "      <td>Biceps</td>\n",
       "      <td>0.148276</td>\n",
       "      <td>0.146750</td>\n",
       "      <td>0.000000</td>\n",
       "    </tr>\n",
       "    <tr>\n",
       "      <th>8</th>\n",
       "      <td>Wrist</td>\n",
       "      <td>-2.203399</td>\n",
       "      <td>-2.121046</td>\n",
       "      <td>-0.000000</td>\n",
       "    </tr>\n",
       "  </tbody>\n",
       "</table>\n",
       "</div>"
      ],
      "text/plain": [
       "  Features    Linear     Ridge     Lasso\n",
       "0      Age  0.083779  0.081634  0.014595\n",
       "1   Weight -0.083322 -0.084216 -0.135252\n",
       "2   Height  0.035932  0.033125 -0.000000\n",
       "3     Neck  0.001123 -0.013236 -0.000000\n",
       "4    Chest -0.138742 -0.136840 -0.000000\n",
       "5  Abdomen  1.032741  1.032791  0.966888\n",
       "6    Ankle  0.225943  0.209326 -0.000000\n",
       "7   Biceps  0.148276  0.146750  0.000000\n",
       "8    Wrist -2.203399 -2.121046 -0.000000"
      ]
     },
     "execution_count": 21,
     "metadata": {},
     "output_type": "execute_result"
    }
   ],
   "source": [
    "# coef_df = pd.DataFrame({'Linear':lin.coef_, 'Ridge':ridge.coef_, 'Lasso':lasso.coef_})\n",
    "coef_df = pd.DataFrame({\"Features\":bf_x.columns, \"Linear\":lin.coef_ , \"Ridge\" : ridge.coef_ , \"Lasso\" :lasso.coef_ })\n",
    "\n",
    "coef_df"
   ]
  },
  {
   "cell_type": "markdown",
   "metadata": {},
   "source": [
    "# Finding MSE"
   ]
  },
  {
   "cell_type": "code",
   "execution_count": 25,
   "metadata": {},
   "outputs": [
    {
     "name": "stdout",
     "output_type": "stream",
     "text": [
      "Mean Squared Error in Linear 15.392269321317324\n",
      "Mean Squared Error in Ridge 15.394055199660782\n",
      "Mean Squared Error in Lasso 17.03728120220529\n"
     ]
    }
   ],
   "source": [
    "error_linear = bf_y - pred_lin\n",
    "MSE = np.mean(np.square(error_linear))\n",
    "print('Mean Squared Error in Linear',MSE)\n",
    "\n",
    "error_ridge = bf_y - pred_ridge\n",
    "MSE = np.mean(np.square(error_ridge))\n",
    "print('Mean Squared Error in Ridge',MSE)\n",
    "\n",
    "error_lasso = bf_y - pred_lasso\n",
    "MSE = np.mean(np.square(error_lasso))\n",
    "print('Mean Squared Error in Lasso',MSE)"
   ]
  },
  {
   "cell_type": "code",
   "execution_count": null,
   "metadata": {},
   "outputs": [],
   "source": []
  }
 ],
 "metadata": {
  "kernelspec": {
   "display_name": "Python 3",
   "language": "python",
   "name": "python3"
  },
  "language_info": {
   "codemirror_mode": {
    "name": "ipython",
    "version": 3
   },
   "file_extension": ".py",
   "mimetype": "text/x-python",
   "name": "python",
   "nbconvert_exporter": "python",
   "pygments_lexer": "ipython3",
   "version": "3.8.5"
  }
 },
 "nbformat": 4,
 "nbformat_minor": 4
}
